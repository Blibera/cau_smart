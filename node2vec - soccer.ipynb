{
 "cells": [
  {
   "cell_type": "code",
   "execution_count": 1,
   "metadata": {},
   "outputs": [],
   "source": [
    "%matplotlib inline\n",
    "\n",
    "import warnings\n",
    "from text_unidecode import unidecode\n",
    "from collections import deque\n",
    "warnings.filterwarnings('ignore')\n",
    "import csv\n",
    "\n",
    "import pandas as pd\n",
    "from sklearn.manifold import TSNE\n",
    "import numpy as np\n",
    "import networkx as nx\n",
    "import matplotlib.pyplot as plt\n",
    "import matplotlib.patches as mpatches\n",
    "import seaborn as sns\n",
    "from node2vec import Node2Vec\n",
    "from node2vec.edges import HadamardEmbedder\n",
    "import re\n",
    "sns.set_style('whitegrid')"
   ]
  },
  {
   "cell_type": "code",
   "execution_count": 2,
   "metadata": {},
   "outputs": [],
   "source": [
    "# list data 및 속성 node 추가\n",
    "G = nx.Graph()\n",
    "\n",
    "# List 속성\n",
    "CVE_ID = []\n",
    "CWE_ID = []\n",
    "Vulnerability_Types = []\n",
    "Text = []\n",
    "Score = []\n",
    "Gained_Access_Level = []\n",
    "Access = []\n",
    "Complexity = []\n",
    "Authentication = []\n",
    "Conf = []\n",
    "Integ = []\n",
    "Avail = []\n",
    "list = []\n",
    "\n",
    "G.add_nodes_from(CWE_ID, kind='CWE_ID')\n",
    "G.add_nodes_from(Vulnerability_Types, kind='Vulnerability_Types')\n",
    "G.add_nodes_from(Score, kind='Score')\n",
    "G.add_nodes_from(Gained_Access_Level, kind='Gained_Access_Level')\n",
    "G.add_nodes_from(Access, kind='Access')\n",
    "G.add_nodes_from(Complexity, kind='Complexity')\n",
    "G.add_nodes_from(Authentication, kind='Authentication')\n",
    "G.add_nodes_from(Conf, kind='Conf')\n",
    "G.add_nodes_from(Integ, kind='Integ')\n",
    "G.add_nodes_from(Avail, kind='Avail')\n",
    "G.add_nodes_from(list, kind='list')\n",
    "\n"
   ]
  },
  {
   "cell_type": "code",
   "execution_count": 3,
   "metadata": {
    "code_folding": [
     0
    ]
   },
   "outputs": [],
   "source": [
    "with open('C:/Users/DI_Lab/Desktop/국보연/node2vec/test-07-29회의용ttt.csv', 'r', encoding='UTF8') as f:\n",
    "    reader = csv.reader(f)\n",
    "    rupe = 0\n",
    "    for txt in reader:\n",
    "        if rupe == 0:\n",
    "            rupe = 1\n",
    "        else:\n",
    "            for i in range(0,12):\n",
    "                if i == 0:\n",
    "                    tol = str(txt[i])\n",
    "                    tol = tol.strip()\n",
    "                    CVE_ID.append(tol)\n",
    "                elif i == 1:\n",
    "                    tol = str(txt[i])\n",
    "                    tol = tol.strip()\n",
    "                    if tol in CWE_ID:\n",
    "                        pass\n",
    "                    else:\n",
    "                        CWE_ID.append(tol)\n",
    "                elif i == 2:\n",
    "                    tol = str(txt[i])\n",
    "                    count = tol.count(',') + 1\n",
    "                    k = 0\n",
    "                    for k in range(count):\n",
    "                        text_tol = tol.split(',')[k]\n",
    "                        text_tol = text_tol.strip()\n",
    "                        if text_tol in Text:\n",
    "                            pass\n",
    "                        else:\n",
    "                            Vulnerability_Types.append(text_tol)\n",
    "                        \n",
    "                elif i == 3:\n",
    "                    tol = str(txt[i])\n",
    "                    tol = tol.strip()\n",
    "                    if tol in Score:\n",
    "                        pass\n",
    "                    else:\n",
    "                        Score.append(tol)\n",
    "                elif i == 4:\n",
    "                    pass\n",
    "                    \"\"\"elif i == 4:\n",
    "                        tol = str(txt[i])\n",
    "                        tol = re.sub('\\[','',tol)\n",
    "                        tol = re.sub('\\]','',tol)\n",
    "                        tol = re.sub(\"\\'\",'',tol)\n",
    "                        count = tol.count(',') + 1\n",
    "                        k = 0\n",
    "                        for k in range(count):\n",
    "                            text_tol = tol.split(',')[k]\n",
    "                            text_tol = text_tol.strip()\n",
    "                            if text_tol in Text:\n",
    "                                pass\n",
    "                            else:\n",
    "                                Text.append(text_tol)\n",
    "                    \"\"\"\n",
    "                elif i == 5:\n",
    "                    tol = str(txt[i])\n",
    "                    tol = tol.strip()\n",
    "                    if tol in Gained_Access_Level:\n",
    "                        pass\n",
    "                    else:\n",
    "                        Gained_Access_Level.append(tol)\n",
    "                elif i == 6:\n",
    "                    tol = str(txt[i])\n",
    "                    tol = tol.strip()\n",
    "                    if tol in Score:\n",
    "                        pass\n",
    "                    else:\n",
    "                        Score.append(tol)\n",
    "                elif i == 7:\n",
    "                    tol = str(txt[i])\n",
    "                    tol = tol.strip()\n",
    "                    if tol in Access:\n",
    "                        pass\n",
    "                    else:\n",
    "                        Access.append(tol)\n",
    "                elif i == 8:\n",
    "                    tol = str(txt[i])\n",
    "                    tol = tol.strip()\n",
    "                    if tol in Authentication:\n",
    "                        pass\n",
    "                    else:\n",
    "                        Authentication.append(tol)\n",
    "                elif i == 9:\n",
    "                    tol = str(txt[i])\n",
    "                    tol = tol.strip()\n",
    "                    if tol in Conf:\n",
    "                        pass\n",
    "                    else:\n",
    "                        Conf.append(tol)\n",
    "                elif i == 10:\n",
    "                    tol = str(txt[i])\n",
    "                    tol = tol.strip()\n",
    "                    if tol in Integ:\n",
    "                        pass\n",
    "                    else:\n",
    "                        Integ.append(tol)\n",
    "                elif i == 11:\n",
    "                    tol = str(txt[i])\n",
    "                    tol = tol.strip()\n",
    "                    if tol in Avail:\n",
    "                        pass\n",
    "                    else:\n",
    "                        Avail.append(tol)"
   ]
  },
  {
   "cell_type": "code",
   "execution_count": 4,
   "metadata": {},
   "outputs": [
    {
     "name": "stdout",
     "output_type": "stream",
     "text": [
      "['XSS', '#NAME?', 'Exec', 'Code', 'Overflow', 'DoS', 'Mem.', 'Corr.', 'Bypass', 'Sql', 'Dir.', 'Trav.', '+Info', 'CSRF', '+Priv', 'File', 'Inclusion', 'Http', 'R.Spl.']\n"
     ]
    }
   ],
   "source": [
    "# list data 및 속성 node 추가\n",
    "\n",
    "G.add_nodes_from(CWE_ID, kind='CWE_ID')\n",
    "G.add_nodes_from(Score, kind='Score')\n",
    "G.add_nodes_from(Gained_Access_Level, kind='Gained_Access_Level')\n",
    "#G.add_nodes_from(Text, kind='Text')\n",
    "G.add_nodes_from(Access, kind='Access')\n",
    "G.add_nodes_from(Complexity, kind='Complexity')\n",
    "G.add_nodes_from(Authentication, kind='Authentication')\n",
    "G.add_nodes_from(Conf, kind='Conf')\n",
    "G.add_nodes_from(Integ, kind='Integ')\n",
    "G.add_nodes_from(Avail, kind='Avail')\n",
    "G.add_nodes_from(CVE_ID, kind='list')"
   ]
  },
  {
   "cell_type": "code",
   "execution_count": 5,
   "metadata": {},
   "outputs": [],
   "source": [
    "with open('C:/Users/DI_Lab/Desktop/국보연/node2vec/test-07-29회의용ttt.csv', 'r', encoding='UTF8') as f:\n",
    "    reader = csv.reader(f)\n",
    "    rupe = 0\n",
    "    for txt in reader:\n",
    "        if rupe == 0:\n",
    "            rupe = 1\n",
    "        else:\n",
    "            for i in range(0,12):\n",
    "                if i == 0:\n",
    "                    tol = str(txt[i])\n",
    "                    start_edge = str(tol)\n",
    "                elif i == 2:\n",
    "                    tol = str(txt[i])\n",
    "                    count = tol.count(',') + 1\n",
    "                    k = 0\n",
    "                    for k in range(count):\n",
    "                        text_tol = tol.split(',')[k]\n",
    "                        text_tol = text_tol.strip()\n",
    "                        end_edge = str(text_tol)\n",
    "                        G.add_edge(start_edge, end_edge)\n",
    "                elif i == 4:\n",
    "                    pass\n",
    "                else:\n",
    "                    tol = str(txt[i])\n",
    "                    end_edge = str(tol)\n",
    "                    G.add_edge(start_edge, end_edge)\n",
    "list_node = G.nodes()\n",
    "d = dict(G.degree)"
   ]
  },
  {
   "cell_type": "code",
   "execution_count": 6,
   "metadata": {},
   "outputs": [
    {
     "name": "stderr",
     "output_type": "stream",
     "text": [
      "Computing transition probabilities: 100%|██████████████████████████████████████████| 2132/2132 [01:17<00:00, 27.68it/s]\n"
     ]
    }
   ],
   "source": [
    "node2vec = Node2Vec(graph=G, # target graph\n",
    "                    dimensions=50, # embedding dimension\n",
    "                    walk_length=10, # number of nodes in each walks\n",
    "                    p = 1, # return hyper parameter\n",
    "                    q = 0.0001, # inout parameter, q값을 작게 하면 structural equivalence를 강조하는 형태로 학습됩니다.\n",
    "                    num_walks=200,\n",
    "                    workers=3,\n",
    "                   )\n",
    "model1 = node2vec.fit(window=10)"
   ]
  },
  {
   "cell_type": "code",
   "execution_count": 7,
   "metadata": {},
   "outputs": [
    {
     "name": "stderr",
     "output_type": "stream",
     "text": [
      "Generating edge features: 100%|████████████████████████████████████████| 2273778/2273778.0 [00:12<00:00, 186555.18it/s]\n"
     ]
    },
    {
     "data": {
      "text/plain": [
       "<gensim.models.keyedvectors.Word2VecKeyedVectors at 0x1bed400d948>"
      ]
     },
     "execution_count": 7,
     "metadata": {},
     "output_type": "execute_result"
    }
   ],
   "source": [
    "edges_embs = HadamardEmbedder(keyed_vectors=model1.wv)\n",
    "\n",
    "edges_kv = edges_embs.as_keyed_vectors()\n",
    "edges_kv"
   ]
  },
  {
   "cell_type": "code",
   "execution_count": 27,
   "metadata": {},
   "outputs": [
    {
     "data": {
      "text/plain": [
       "[(\"('DoS', 'XSS')\", 0.6498484015464783),\n",
       " (\"('CEW_ID_835', 'CVE-2019-14298')\", 0.5795022249221802),\n",
       " (\"('CVE-2019-11830', 'CVE-2019-17344')\", 0.5789507627487183),\n",
       " (\"('CVE-2019-16289', 'DoS')\", 0.5780016183853149),\n",
       " (\"('CEW_ID_476', 'Conf_1')\", 0.5707911252975464),\n",
       " (\"('CVE-2019-1003041', 'CVE-2019-17344')\", 0.5697283744812012),\n",
       " (\"('Access_2', 'Socre_1')\", 0.5694624781608582),\n",
       " (\"('CEW_ID_185', 'CVE-2019-11956')\", 0.56905198097229),\n",
       " (\"('CVE-2019-1003041', 'CVE-2019-14333')\", 0.5675485134124756),\n",
       " (\"('CEW_ID_835', 'CVE-2019-12195')\", 0.567272961139679),\n",
       " (\"('Access_0', 'CVE-2019-14682')\", 0.5658680200576782),\n",
       " (\"('CVE-2019-11415', 'CVE-2019-11830')\", 0.5641000270843506),\n",
       " (\"('CEW_ID_835', 'CVE-2019-16683')\", 0.5639446377754211),\n",
       " (\"('CEW_ID_185', 'CVE-2019-12840')\", 0.5620791912078857),\n",
       " (\"('CEW_ID_835', 'CVE-2019-13476')\", 0.5546819567680359),\n",
       " (\"('Access_0', 'CVE-2019-1003046')\", 0.5534000992774963),\n",
       " (\"('CEW_ID_749', 'XSS')\", 0.552242636680603),\n",
       " (\"('CVE-2019-11871', 'DoS')\", 0.5522255301475525),\n",
       " (\"('CEW_ID_835', 'CVE-2019-13950')\", 0.5518240928649902),\n",
       " (\"('CEW_ID_749', 'CVE-2019-14298')\", 0.5500127077102661)]"
      ]
     },
     "execution_count": 27,
     "metadata": {},
     "output_type": "execute_result"
    }
   ],
   "source": [
    "edges_kv.most_similar(positive=[str(('CEW_ID_79','DoS'))], negative=[str(('Access_2','Socre_2'))], topn=20)"
   ]
  },
  {
   "cell_type": "code",
   "execution_count": 13,
   "metadata": {},
   "outputs": [
    {
     "data": {
      "text/plain": [
       "[(\"('Overflow', 'Sql')\", 0.9398306012153625),\n",
       " (\"('CEW_ID_119', 'CEW_ID_89')\", 0.8767387866973877),\n",
       " (\"('CEW_ID_119', 'Sql')\", 0.8315937519073486),\n",
       " (\"('CVE-2019-15725', 'Corr.')\", 0.5781017541885376),\n",
       " (\"('CEW_ID_522', 'CVE-2019-15304')\", 0.5654439330101013),\n",
       " (\"('CVE-2019-16409', 'Corr.')\", 0.5575800538063049),\n",
       " (\"('CVE-2019-15132', 'Corr.')\", 0.557263970375061),\n",
       " (\"('CVE-2019-15135', 'Corr.')\", 0.5514026880264282),\n",
       " (\"('CVE-2019-14800', 'Corr.')\", 0.5476288795471191),\n",
       " (\"('CVE-2019-15725', 'Mem.')\", 0.5432891845703125)]"
      ]
     },
     "execution_count": 13,
     "metadata": {},
     "output_type": "execute_result"
    }
   ],
   "source": [
    "edges_kv.most_similar(str(('CEW_ID_89','Overflow')))"
   ]
  },
  {
   "cell_type": "code",
   "execution_count": 14,
   "metadata": {},
   "outputs": [
    {
     "name": "stdout",
     "output_type": "stream",
     "text": [
      "['79', '200', '77', '119', '284', '20', '347', '400', '749', '89', '190', '754', '22', '125', '78', '416', '476', '287', '352', '275', '427', '399', '264', '91', '254', '611', '674', '434', '835', '362', '307', '863', '269', '120', '94', '502', '772', '665', '639', '290', '522', '862', '74', '532', 'XSS', '#NAME?', 'Exec Code', 'Overflow', 'DoS', 'DoS Overflow', 'Exec Code Overflow', 'Overflow Mem. Corr.', 'Mem. Corr.', 'Exec Code XSS', 'DoS Bypass', 'Bypass', 'Sql', 'DoS Exec Code Overflow', 'Dir. Trav.', 'XSS Bypass', 'DoS Exec Code', 'DoS Bypass +Info', 'Exec Code Sql', 'CSRF', 'Bypass +Info', 'Overflow Bypass', 'Exec Code Bypass', 'Bypass CSRF', 'Exec Code CSRF', 'XSS CSRF', 'DoS +Priv', 'DoS Dir. Trav.', 'XSS File Inclusion', 'Dir. Trav. File Inclusion', 'DoS CSRF', 'Overflow +Priv', 'Exec Code +Priv', 'Exec Code +Priv Dir. Trav.', 'File Inclusion', 'Socre_2', 'Access_2', 'Socre_1', 'Socre_0', 'Access_0', 'Access_1', 'Gained Access Level_1', 'invenio*previewer', 'Misskey', 'user', 'token', 'stacktable*js', 'Dependency*Track', 'Pterodactyl', 'sniffing', 'Gitea', 'Cross', 'Site', 'Scripting', 'impact', 'JavaScript', 'victim', 'browser', 'repo', 'page', 'component', 'repository', 'description', 'attack', 'vector', 'GLPI', 'Product', 'escalation', 'js', 'admin', '*glpi*ajax*getDropDownValue*php', 'User', 'Create', 'ticket', 'Admin', 'click', 'Link', 'Tickets', 'feature', 'request', 'endpoint', 'Code', 'Execution', 'RCE', 'attacker', 'server', 'Message', 'handler', 'amp', 'validator', 'version', 'commit', 'libmspack', 'Buffer', 'Information', 'Disclosure', 'function', 'libmspack*mspack*chmd*c', 'chm', 'file', 'jhead', 'Access', 'Control', 'Denial', 'service', 'Line', 'show*IPTC', 'JPEG', 'ProcessGpsInfo', 'mz*automation', 'libiec61850', 'crash', 'server*example*complex*array', 'MMS', 'protocol', 'packet', 'Rust', 'Programming', 'Language', 'Standard', 'Library', 'Exposure', 'memory', 'Debug', 'implementation', 'std', '*vec*deque', '*Iter', 'program', 'iterator', 'VecDeque', 'b85e4cc8fadaabd41da5b9645c08c68b8f89908d', 'execution', 'context', 'TEE', 'core', 'kernel', 'optee*os', 'code', 'Memory', 'corruption', 'disclosure', 'content', 'crossing', 'OP*TEE', 'Prior', 'v3*4*0', 'TA', 'access', 'Timesheet', 'Next', 'Gen', 'HTML', 'redirect', 'parameter', 'form', 'login*php', 'url', 'Univention', 'Corporate', 'Server', 'Loss', 'Confidentiality', 'data*on*connection', 'src*callback*c', 'network', 'connectivity', 'Security', 'Foundation', 'Suricata', 'Service', 'TCP*HTTP', 'detection', 'bypass', 'signature', 'specialy', 'sequence', 'detect*c', 'https', '*github*com*OISF*suricata*pull*3625*commits*d8634daf74c882356659addb65fb142b738a186b', 'vulnerability', 'TCP', 'session', 'lodash', 'CWE*400', 'Resource', 'Consumption', 'Date', 'Attacker', 'library', 'expression', 'Perl', 'Crypt', '*JWT', 'authentication', 'hmac', 'JWT*pm', 'line', 'b98a59b42ded9f9e51b2560410106207c2152d6c', 'scapy', 'loop', 'class', 'sent', 'pcap', 'execute', 'JS', 'URL', 'generation', 'PR', 'ktlint', 'MITM', 'Man', 'Middle', 'HTTP', 'connection', 'SaltStack', 'Salt', 'SQL', 'Injection', 'MySQL', 'provider', 'mysql*user*chpass', 'module', 'password', 'string', 'nanosvg', 'c1f6e209c16b18b46aa9f45d7e619acf42c29726', 'investigation', 'part', 'svg', 'processing', 'nsvg*parseColorRGB', 'usage', 'input', '*svg', 'Data', 'Modification', 'issue', 'article2pdf*getfile*php', 'article2pdf', 'Wordpress', 'plugin', 'PDF', 'path', 'web', 'download', 'permission', 'PHP', 'left', 'extension', 'DNS', '*github*com*OISF*suricata*pull*3590*commits*11f3659f64a4e42e90cb3c09fcef66894205aefe', '*github*com*OISF*suricata*pull*3590*commits*8357ef3f8ffc7d99ef6571350724160de356158b', 'Linux', 'ONOS', 'Integer', 'administrator', 'flow', 'switch', 'mistake', 'createFlow', 'FlowWebResource*java', 'RESTful', 'management', 'GmbH', 'I*doit', 'mysql', 'database', 'login', 'POST', 'ZmartZone', 'IAM', 'application', 'behalf', 'File', 'src*mod*auth*openidc*c', 'MailCleaner', 'c888fbb6aaa7c5f8400f637bcf1cbb844de46cd9', 'information', 'username', 'API', 'call', 'allowAction', 'NewslettersController*php', 'Get', 'SDN', 'Controller', 'Improper', 'Input', 'Validation', 'controller', 'apps*yang*src*main*java*org*onosproject*yang*impl*YangLiveCompilerManager*java', 'DaveGamble*cJSON', 'cJSON', 'Check', 'Unusual', 'Exceptional', 'dereference', 'denial', 'json', 'Gnome', 'Pango', 'heap', 'name', 'assignment', 'condition', 'Bug', 'pass', 'pango*itemize', 'Ilias', 'Type', 'Persistent', 'TestQuestionPool', 'Test', 'Text', 'gap', 'Corrections', 'view', 'Frog', 'CMS', 'Cookie', 'stealing', 'Alert', 'pop*up', 'site', 'Executing', 'http', 'Method', 'runJavaCompiler', 'YangLiveCompilerManager*java', 'Juniper', 'juniper*libslax', 'libslax', 'Sep', 'dos', 'slaxlexer*c*601', 'funtion', 'slaxGetInput', '*slaxproc', 'POC0', 'OFFIS*de', 'DCMTK', 'DcmRLEDecoder', '*decompress', 'dcrledec*h', 'DICOM', 'e*g', 'image', 'conversion', 'buffer', 'strcpy', 'tempo', 'b1559f4c9ce2b304d8d27ffdc7128b6795ca82e5', 'Cherokee', 'Webserver', 'Latest', 'Web', 'Upto', 'Version', 'Current', 'stable', 'CWE*120', 'Crash', 'Main', 'cherokee', 'command', 'argv', 'insane', 'length', 'execl', 'fix', 'IDRIX', 'Truecrypt', 'Veracrypt', 'stack', 'NT', 'Driver', 'veracrypt*sys', 'IOCTL', 'Pie', 'Register', 'Stealing', 'Login', 'interim*login', 'wp*lang', 'link', 'account', 'LINAGORA', 'hublin', 'Directory', 'Traversal', 'renderer', '*lgtm*com*projects*g*linagora*hublin*snapshot*af9f1ce253b4ee923ff8da8f9d908d02a8e95b7f*files*backend*webserver*views*js', 'sort*name', 'xb24eb0101d2aec21*1', 'GNU', 'v1*11*v1*16', 'v2*21*v2*31*1', 'Signed*Unsigned', 'Comparison', 'Out*of*bounds', 'Read', 'gold*fileread*cc*497', 'elfcpp*elfcpp*file*h*644', 'ELF', 'e*shoff', 'header', 'field', 'Jeesite', 'src*main*java*com*thinkgem*jeesite*modules*act*ActDao*java', 'Voice', 'Builder', 'c145d4604df67e6fc625992412eef0bf9a85e26b', 'f6660e6d8f0d1d931359d591dbdec580fef36d36', 'Neutralization', 'OS', 'Command', '*tts', 'L34', '*alignment', 'L28', 'L65', 'GET', 'query', 'ServiceStack', 'Framework', 'JavaScrpit', 'response', 'validation', 'Browser', 'encoding', 'hisiphp', 'marginalia', 'lt', 'injection', 'argument', 'instance', 'Hacker', 'etc', 'serde', 'Recursion', 'deserialization', 'YAML', 'abort', 'YamlLoader', 'Parsing', 'document', 'Deny', 'gdb', 'PHKP', 'pgp*exec', 'phkp*php*98', '*pks*lookup', 'search', 'Fred', 'MODX', 'Revolution', 'CWE*648', 'assets*components*fred*web*elfinder*connector*php', 'change', '*github*com*modxcms*fred*commit*139cefac83b2ead90da23187d92739dec79d3ccd', '*github*com*modxcms*fred*commit*01f0a3d1ae7f3970639c2a0db1887beba0065246', 'Use', 'Free', 'Jsi*RegExpNew', 'jsi*jsiRegexp*c*39', 'javascript', 'JerryScript', 'jerry*core*lit*lit*char*helpers*c*377', 'Assertion', 'Jsi*ValueArrayIndex', 'jsiValue*c*366', 'jsiValueGetString', 'jsiUtils*c', 'f3a8096e0ce44bbf36c1dcb6e603adf9c8670c39', 'Nullpointer', 'jsiEval*c*567', 'Jsi*ObjFree', 'jsiObj*c*230', 'lexer*getchar', 'jsiLexer*c*9', 'Socusoft', 'Co', 'Photo', 'Video', 'Converter', 'privilege', 'denial*of*service', 'system', 'remotley', 'NULL', 'Pointer', 'Dereference', 'Jsi*StrcmpDict', 'jsiChar*c*121', 'JWT', 'security', '*decode*jws', 'D*Link', 'DSL*2750U', 'Firmware', 'Authentication', 'leakage', 'DISPUTED', 'NOTE', 'wizard', 'anything', 'zzcms', 'sql', 'inject', 'zs*subzs*php', 'Delete', 'getshell', '*user*zssave*php', 'user*licence*save*php', 'Yellowfin', 'Smart', 'All', 'Versions', 'Escalation', 'Victim', 'functionality', 'control', 'MIAdminStyles*i4', 'target', 'domain', 'knowledge', 'resource', 'consumption', '*RADIUSAttrPacketListField*getfield', 'work', 'VCFTools', 'Use*After*Free', 'eg', '*add*FILTER*descriptor', 'method', 'header*cpp', 'VCF', 'WebAppick', 'WooCommerce', 'Feed', 'WordPress', 'Administrator', 'Premium', 'Software', 'CLEditor', 'html', 'script', 'jQuery', 'plug*in', 'href', 'attribute', 'element', 'OECMS', 'v4*3*R60321', 'v4*3', 'Request', 'Forgery', 'admincp*php', 'TechyTalk', 'Quick', 'Chat', 'Plugin', 'like*escape', 'Quick*chat*php', 'Akeo', 'Consulting', 'Rufus', 'Insecure', 'installer', 'CWE*377', 'CWE*379', 'DLL', 'order', 'hijacking', 'WITH', 'CWE*426', 'CWE*427', 'domainmod', '*domainmod*org*', 'v4*10*0', '*127*0*0*1*admin*users*edit*php', '*127*0*0*1*admin*users*add*php', 'tinymce', 'Page', 'Generation', 'Media', 'tab', 'Pallets', 'Project', 'Flask', 'JSON', 'CVE*2018*1000656', 'BACnet', 'Stack', 'bacserv', 'exploit', 'BVLC', 'NPDU', 'bvlc*bdt*forward*npdu', 'bvlc*encode*forwarded*npdu', 'frame', 'canary', 'BACnet*IP', 'device', 'BBMD', 'IP', 'moinejf', 'abcm2ps', 'front*c', 'txt*add', 'Sleuth', 'Kit', 'Opening', 'tsk*fs*hfs*dent*c*237', 'tool', 'HFS', 'tsk*fs*hfs*c', 'hfs*cat*traverse', 'filesystem', 'NASA', 'CFITSIO', 'source', 'remote', 'CVE', 'CVE*2018*3846', 'CVE*2018*3847', 'CVE*2018*3848', 'CVE*2018*3849', 'example', 'drvrnet*c', 'character', 'nfx*c*546', 'minilzo*c', 'nfdump', 'Dolibarr', 'encryptation', 'Function', 'borg*reducer', 'c6d5240', 'Output', 'Quake3e', 'Argument', 'creation', 'loader*c', 'OpenModelica', 'OMCompiler', 'OPENMODELICAHOME', 'environment', 'variable', 'AllBarCodes', 'database*code*php', 'blind', 'logged*in', 'Volunteer', 'role', 'manage*circulation', 'PoC', 'page*weblib*circulation*desk', 'order*DESC', 'School', 'College', 'Portal', 'ERP', 'Script', 'Attack', 'student*message*send*reply*', 'onerror*alert', 'document*domain', 'gt', 'Libc', 'Mitigation', 'thread', 'glibc', 'vendor', 'position', 'ASLR', 'cache', 'libray', 'case', 'libld', 'protection', 'nptl', 'Exploit', 'guard', 'Zammad', 'CWE*80', 'java', 'app', 'libnmap', 'v0*6*3', 'XML', 'payload', 'htdocs*product*stats*card*php', 'OpenEnergyMonitor', 'Emoncms', 'Name', 'Location', 'Bio', 'Account', 'Lib*listjs*list*js', 'profile', 'persistent', 'Evince', 'overflow', 'DOS', 'Possible', 'backend*tiff*tiff*document*c', 'integer', 'mechanism', 'tiff*document*render', 'tiff*document*get*thumbnail', 'HexoEditor', 'v1*1*8*beta', 'SoX', 'Sound', 'eXchange', 'xa*c*219', '*xa', 'CVE*2017*18189', 'Leanote', 'forgery', 'Jenkins', 'OpenIdSsoSecurityRealm*DescriptorImpl', 'Nomad', 'NomadCloud*DescriptorImpl', 'doTestConnection', 'SOASTA', 'CloudTest', 'CloudTestServer*DescriptorImpl', 'Chef', 'Sinatra', 'ChefBuilderConfiguration*DescriptorImpl', 'Zephyr', 'Enterprise', 'Management', 'ZeeDescriptor', 'Gearman', 'GearmanPluginConfig', 'OpenShift', 'Deployer', 'DeployApplication*DeployApplicationDescriptor', 'doCheckLogin', 'VMware', 'Lab', 'Manager', 'Slaves', 'LabManager*DescriptorImpl', 'Audit', 'Database', 'DbAuditPublisherDescriptorImpl', 'doTestJdbcConnection', 'FTP', 'publisher', 'FTPPublisher*DescriptorImpl', 'doLoginCheck', 'f', 'UI', 'job', 'URLs', 'LTS', 'scripting', 'ability', 'Fortify', 'Demand', 'Uploader', 'ECS', 'Publisher', 'Item*Extended', 'home', 'directory', 'configuration', 'Slack', 'Notification', 'IDs', 'cross', 'Lockable', 'Pipeline', 'Groovy', 'exposure', 'Azure', 'VM', 'Agents', 'src*main*java*com*microsoft*azure*vmagent*AzureVMCloud*java', 'Overall*Read', 'Job', 'DSL', 'job*dsl*core*src*main*groovy*javaposse*jobdsl*dsl*AbstractDslScriptLoader*groovy', 'master', 'JVM', 'Matrix', 'pom*xml', 'src*main*java*hudson*matrix*FilterScript*java', 'Job*Configure', 'src*main*java*org*jenkinsci*plugins*workflow*cps*CpsGroovyShell*java', 'pipeline', 'src*main*java*org*jenkinsci*plugins*scriptsecurity*sandbox*groovy*GroovySandbox*java', 'src*main*java*org*jenkinsci*plugins*scriptsecurity*sandbox*groovy*SecureGroovyScript*java', 'Cloud', 'Foundry', 'AbstractCloudFoundryPushDescriptor*java', 'RejectASTTransformsCustomizer*java', 'Warnings', 'src*main*java*io*jenkins*plugins*analysis*core*model*DetailsTableModel*java', 'src*main*java*io*jenkins*plugins*analysis*core*model*SourceDetail*java', 'src*main*java*io*jenkins*plugins*analysis*core*model*SourcePrinter*java', 'src*main*java*io*jenkins*plugins*analysis*core*util*Sanitizer*java', 'src*main*java*io*jenkins*plugins*analysis*warnings*DuplicateCodeScanner*java', 'Monitoring', 'PluginImpl*java', 'OpenId', 'Connect', 'OicSecurityRealm*config*jelly', 'output', 'client', 'secret', 'GitHub', 'GithubSecurityRealm*config*jelly', 'Import', 'src*main*java*org*jenkins*ci*plugins*jobimport*JobImportAction*java', 'src*main*java*org*jenkins*ci*plugins*jobimport*JobImportGlobalConfig*java', 'src*main*java*org*jenkins*ci*plugins*jobimport*model*JenkinsSite*java', 'entity', 'src*main*java*org*jenkins*ci*plugins*jobimport*client*RestApiClient*java', 'preparation', 'import', 'Config', 'Provider', 'Blue', 'Ocean', 'Plugins', 'data', 'modification', 'blueocean*core*js*src*js*bundleStartup*js', 'Token', 'Macro', 'src*main*java*org*jenkinsci*plugins*tokenmacro*Parser*java', 'src*main*java*org*jenkinsci*plugins*tokenmacro*TokenMacro*java', 'src*main*java*org*jenkinsci*plugins*tokenmacro*impl*AbstractChangesSinceMacro*java', 'src*main*java*org*jenkinsci*plugins*tokenmacro*impl*ChangesSinceLastBuildMacro*java', 'src*main*java*org*jenkinsci*plugins*tokenmacro*impl*ProjectUrlMacro*java', 'macro', 'SCM', 'evaluation', 'Git', 'src*main*java*hudson*plugins*git*GitTagAction*java', 'tag', 'workspace', 'attach', 'build', 'record', 'src*main*java*io*jenkins*plugins*analysis*warnings*groovy*GroovyParser*java', 'src*main*java*hudson*plugins*warnings*GroovyParser*java', 'src*main*java*hudson*plugins*groovy*StringScriptSource*java', 'Declarative', 'pipeline*model*definition*src*main*groovy*org*jenkinsci*plugins*pipeline*modeldefinition*parser*Converter*groovy', 'src*main*java*org*jenkinsci*plugins*workflow*cps*CpsFlowDefinition*java', 'src*main*java*org*jenkinsci*plugins*workflow*cps*CpsGroovyShellFactory*java', 'Kubernetes', 'v1*12*6', 'v1*13*4', 'patch', 'type', 'json*patch', 'bf9aec176c6748f0ee7a678c5f9f9555b9a757c1', 'v3*0*2', 'decompression', 'archive*read*support*format*7zip*c', 'Local', 'SSH', 'Hex', 'package', 'manager', 'Signing', 'oracle', 'Package', 'registry', 'verification', 'mirror', 'DIR*846', 'root', 'SetWizardConfig', 'shell', 'Craft', 'deletion', 'laravel*bjyblog', 'Jiangnan', 'Online', 'Judge', 'jnoj', 'Problem', 'title', 'b3log', 'Symphony', 'Sym', 'Binary', 'Descriptor', 'BFD', 'libbfd', 'Binutils', 'SEGV', '*bfd*dwarf2*find*nearest*line', 'dwarf2*c', 'nm', 'find*abstract*instance', 'recursion', 'LavaLite', 'Manage', 'Clients', 'screen', 'Slug', 'Roles', 'Operation', 'log', 'public*admin*general*config*edit', 'row', 'EyouCms', '2019*07*11', 'web*recordnum', 'Adhouma', '2019*10*09', 'post*php', 'p*id', 'Redmine', 'MetInfo', 'admin*', 'n*user', 'c*admin*user', 'n*language', 'CVE*2019*16997', 'PbootCMS', 'Pboot*admin*php', 'p*Single*index*mcode*1', 'Pboot*', 'contact*', 'URIs', 'Shack', 'Forms', 'Pro', 'Joomla', 'traversal', 'attachment', 'edsanimate*php', 'cPanel', 'WHM', 'Update', 'Preferences', 'interface', 'SEC*528', 'SSL', 'Storage', 'SEC*527', 'Key', 'SEC*526', 'LiveAPI', 'SEC*524', 'Certificate', 'Upload', 'SEC*521', 'OTCMS', 'v3*85', 'admin*sysCheckFile*deal*php', 'outfile', 'SELECT', 'statement', '*outfile', 'manipulation', 'S*CMS', 'v1*5', 'tpl*php', 'member*member*login*php', 'LibTomCrypt', 'der*decode*utf8*string*c', 'read', 'DER*encoded', 'JFinal', 'cos', 'isSafeFile', '*jsp', 'step', 'drivers*xen*balloon*c', 'Xen', 'mapping', 'CID*6ef36ab967c7', 'Arm', 'domU', 'operation', 'LoadExcl', 'StoreExcl', 'PV', 'incompatibility', 'Process', 'Context', 'Identifiers', 'PCID', 'switching', 'gain', 'guest', 'cr4', 'way', 'TLB', 'IOMMU', 'check', 'cleanup', 'restartability', 'PTE', 'use', 'HVM', 'physmap', 'concept', 'race', 'XENMEM*exchange', 'page*writability', 'addition', 'PCI', 'transfer', 'SugarCRM', 'Emails', 'pmse*Inbox', 'Configurator', 'Studio', 'Developer', 'Administration', 'Quotes', 'history', 'export', 'pmse*Project', 'vBulletin', 'ajax*api*hook*getHookList', 'ajax*api*widget*getWidgetList', 'Remote', 'Ping', 'MPC*HC', 'Violation', 'Block', 'Move', 'mpc*hc', 'memcpy*0x000000000000004e', 'bl*kernel*security*class*php', 'Bludit', 'X*Forwarded*For', 'Client*IP', 'includes*settings*class*alg*download*plugins*settings*php', 'Made', 'Simple', 'CMSMS', 'Module', 'Search', 'Term', 'Subrion', 'panel*members*', 'Username', 'Full', 'Email', 'Member', 'V*Zug', 'Combi*Steam', 'MSLQ', 'Ethernet', 'R07', 'WLAN', 'R05', 'WebARX', 'cc*1', 'URI', 'TeamPass', 'attempt', 'Knowledge', 'Base', 'label', 'item', 'folder', 'www*getfile*php', 'WPO', 'WebPageTest', 'a*jpg*', 'substring', 'OpenEMR', 'Lifestyle', 'filter', 'library*clinical*rules*php', 'library*patient*inc', 'WebRTC', 'Signal', 'Private', 'Messenger', 'Android', 'RTP', 'callee', 'behavior', 'performance', 'design', 'catalog*productinfo*imageupload', 'Fecshop', 'FecMall', 'restriction', 'webserver', 'image*jpeg', 'getimagesize', '*var*WEB*GUI*cgi*bin*downloadfile*cgi', 'FiberHome', 'HG2201T', 'pre*authentication', 'Xerox', 'AtlaLink', 'B8045*B8055*B8065*B8075*B8090', 'C8030*C8035*C8045*C8055*C8070', 'software', 'Valve', 'Steam', 'Client', 'Windows', 'AUTHORITY*SYSTEM', 'elevation', 'library*custom*template*add*template*php', 'list*id', 'Amphora', 'Images', 'OpenStack', 'Octavia', '*0*10*0', '*3*0*0', '*4*0*0', 'anyone', 'client*certificate', 'Agent', 'port', 'https*9443', 'cmd*agent*py', 'gunicorn', 'cert*reqs', 'option', 'cfg80211*mgd*wext*giwessid', 'net*wireless*wext*sme*c', 'SSID', 'IE', 'Netreo', 'OmniCenter', 'Boolean', 'Based', 'Blind', 'REDCap', 'Customize', 'Locking*E*signatures', 'Lock', 'Record', 'Custom', 'libopenmpt', 'ModPlug*InstrumentName', 'ModPlug*SampleName', 'libopenmpt*modplug*c', 'C', 'default', 'combination', 'kubectl', 'Koji', 'Privilege', 'inclusion', 'brokerPerformance*php', 'Centreon', 'minPlayCommand*php', 'command*hostaddress', 'CVE*2019*17017', 'list', 'OpenProject', 'sortBy', 'error', 'mintinstall', 'Mint', 'REVIEWS*CACHE', 'occurs', 'write*tpt*entry', 'drivers*infiniband*hw*cxgb4*mem*c', 'cxgb4', 'driver', 'dma*map*single', 'DMA', 'architecture', 'stack*DMA', 'interaction', 'relevance', 'XunRuiCMS', 'area', 'emlog', 'admin*template*php', 'action*del', 'new*contact*form*widget', 'Contact', 'Form', 'Widget', 'Query', 'Maker', 'all*query*page*php', 'client*dash', 'Dash', 'liquid*speech*balloon', 'LIQUID', 'SPEECH', 'BALLOON', 'Internet', 'Explorer', 'PuTTY', 'SSH1*MSG*DISCONNECT', 'message', 'Evernote', 'GA', 'macOS', 'com*apple*quarantine', 'Terminal', 'NETGEAR', 'SRX5308', 'wild', 'September', 'Ilch', 'php', 'Allowed', 'index*php*admin*media*settings*index', 'text', 'id', 'Jobs', 'Tab', 'Rsyslog', 'v8*1908*0', 'contrib*pmcisconames*pmcisconames*c', 'parser', 'Cisco', 'delimiter', 'space', 'colon', 'constraint', 'lenMsg', 'value', 'zero', 'sanity', 'destination', 'contrib*pmaixforwardedfrom*pmaixforwardedfrom*c', 'AIX', 'CloudBoot', 'Status', 'api*osinstall*v1*device*getNumByStatus', 'Metinfo', 'app*system*language*admin*language*general*class*php', 'app*system*product*admin*product*admin*class*php', 'n*product', 'c*product*admin', 'leak', 'hsr*dev*finalize', 'net*hsr*hsr*device*c', 'hsr*add*port', 'CID*6caabe7f197d', 'sit*init*net', 'net*ipv6*sit*c', 'register*netdev', 'fb*tunnel*dev', 'CID*07f12b26e21a', 'phpBB', 'includes*acp*acp*bbcodes*php', 'BBCode', 'Panel', 'NSA', 'Ghidra', 'mode', 'Files', 'Bit', 'Patterns', 'Features*BytePatterns*src*main*java*ghidra*bitpatterns*info*FileBitPatternInfoReader*java', 'DumpFunctionPatternInfoScript', 'java*lang*Runtime*exec', 'documentation', 'Python', 'Lib*DocXMLRPCServer*py', 'Lib*xmlrpc*server*py', 'set*server*title', 'Visualizer', 'chart', 'dashboard', 'classes*Visualizer*Gutenberg*Block*php', 'classes*Visualizer*Render*Page*Data*php', 'sanitization', 'Exim', 'CVE*2019*15846', 'string*vformat', 'string*c', 'EHLO', 'Flower', 'worker', 'app*task', 'kkcms', 'SuiteCRM', 'hns*roce*alloc*ucontext', 'drivers*infiniband*hw*hns*hns*roce*main*c', 'resp', 'structure', 'CID*df7e40425813', 'DIR*655C', 'DIR*866L', 'DIR*652', 'DHP*1565', 'PingTest', 'gateway', 'compromise', 'DAP*1533', 'DIR*862L', 'DIR*615', 'DIR*835', 'DIR*825', 'pfSense', 'services*captiveportal*mac*php', 'delmac', 'Mbed', 'TLS', 'Crypto', 'ECDSA', 'RNG', 'entropy', 'blinding', 'Platinum', 'UPnP', 'SDK', 'Core*PltHttpServer*cpp', 'Advantech', 'WebAccess*HMI', 'Designer', 'Mode', 'Write', 'AV', 'MSVCR90', 'memcpy*0x000000000000015c', 'Faulting', 'Address', 'Flow', 'PM*V3', 'CTagInfoThreadBase', '*GetNICInfo*0x0000000000512918', 'download*php', 'insecure', 'Rubyzip', 'ZIP', 'entry', 'size', 'Liferay', 'CE', 'Halo', 'authorUrl', 'Ubiquiti', 'EdgeMAX', '*cache', '*var*run*beaker*container*file*', 'beaker*session*id', 'cookie', 'series', 'runc', 'Docker', 'AppArmor', 'libcontainer*rootfs*linux*go', 'mount', 'crate', 'lack', 'safety', 'stream*callback', 'stream*finished*callback', 'admin*data*php', 'bak', 'NOTIFY', 'address', 'rule', 'widgetConfig', 'ajax*render*widget*php', 'BMC', 'Remedy', 'ITSM', 'Suite', 'DWP', 'SmartIT', 'Operating', 'System', 'Affected', 'Devise', 'Auth', 'failure', 'Reflected', 'fallback*render', 'omniauth', 'net*wireless*nl80211*c', 'beacon', 'head', 'eBrigade', 'MediaWiki', 'ID', 'Lookup', 'DOMPurify', 'mutation', 'mXSS', 'SVG', 'MATH', 'Chrome', 'Safari', 'escaping', 'Wizard', 'Structured', 'Exception', 'Handler', 'SEH', 'CVE*2010*2330', 'CVE*2010*2331', 'Cacti', 'authorization', 'graph', 'graph*json*php', 'local*graph*id', 'ZZZCMS', 'zzzphp', 'v1*7*2', 'passthru', 'str*ireplace', 'NoneCMS', 'v1*3', 'public*index*php*admin*admin*dele*html', 'WTCMS', 'index*php', 'g*admin', 'm*index', 'radare2', 'libr*core*cbin*c', 'CVE*2019*14745', 'handling', 'symbol', 'rds6*inc*info*copy', 'tos', 'Hunspell', 'SuggestMgr', '*leftcommonsubstring', 'suggestmgr*cxx', 'vulnerablity', 'admin*cms*user*add*php', 'admin*infoclass*update*php', 'PHPMyWind', 'admin*infolist*add*php', 'Integard', 'NoJs', '*LoginAdmin', 'phpIPAM', 'table', 'action*add', 'Template', 'section', 'Profile', 'Signature', 'Create*modify', 'Note', 'Group', 'Description', 'image*manager', 'Edit', 'breadcrumb', 'category', 'Traveloka', 'com*traveloka*android*activity*common*WebViewActivity', 'opening', 'possession', 'Elevation', 'Sensitive', 'Leakage', 'activity', 'APK', 'GNOME', 'file*roller', 'filename', 'TAR', 'archive', 'extraction', 'Gila', 'Inclusion', 'admin*urlrule*add*html', 'YzmCMS', 'route', 'iCMS', 'V7*0', 'do*del', 'diag*command*php', 'txtCommand', 'txtRecallBuffer', 'csrf*callback', 'Try', 'Again', 'button', 'ThinkSAAS', 'app*group', 'ac*comment', 'SRC', 'EMBED', 'Ogma', 'blog', 'joyplus*cms', 'action*savexml', 'TuziCMS', 'PATH*INFO', 'group', 'index*php*article*group*id*2*', '*install', 'object', 'App*Home*Controller*ZhuantiController*class*php', 'index*php*Zhuanti*group', 'ZrLog', 'Stored', 'article*edit', 'App*Mobile*Controller*ZhuantiController*class*php', 'index*php*Mobile*Zhuanti*group', 'DrayTek', 'Vigor2925', 'WAN', 'General', 'Setup', 'product', 'v3*8*8*2', 'release', 'firmware', 'Incorrect', 'loginset*htm', 'LayerBB', 'Settings', 'admin*general*php', 'checklist', 'fill', 'Easy', 'FancyBox', 'Menu', 'DTF', 'FireGiant', 'WiX', 'Toolset', 'Microsoft*Deployment*Compression*Cab*dll', 'Microsoft*Deployment*Compression*Zip*dll', 'CAB', 'Imagination', 'R74*11895*B', 'R75', 'R75*12105*B', 'R76', 'R76*12208*0*0', 'GPU', 'process', 'PowerVR', 'ioctl', 'PVRSRVBridgeSyncPrimOpCreate', 'HRworks', 'FLOW', 'purpose', 'report', 'DOM', 'GFI', 'Kerio', 'v9*3*0', 'cleartext', 'login*', 'reason*failure', 'NTLM*', 'i*size*write', 'i*size*read', 'SMP', 'Versioned', 'SilverStripe', 'guess', 'understanding', 'need', 'versioning', 'nothing', 'destruction', 'criticality', 'Keeper', 'K5', 'SD', 'card', 'zskj*script*run*sh', 'reverse', 'GnuCOBOL', 'cb*name', 'cobc*tree*c', 'COBOL', 'SPIP', 'MOVEit*DMZ*WebApi*dll', 'Progress', 'MOVEit', 'Transfer', 'SP2', 'engine', 'Microsoft', 'REST', 'aka', 'OpenDMARC', 'prone', 'origin', 'LogMeIn', 'LastPass', 'do*popupregister', 'clickjacking', 'XS', 'OS180329', 'fxBeginHost', 'xsAPI*c', 'fxRunDefine', 'xsRun*c', 'ffjpeg', 'jfif*load', 'jfif*c', 'WritePixels', 'ngiflib*c', 'DecodeGifImg', 'WritePixel', 'v3*9*2', 'Categories', 'Add', 'New', 'Category', 'CVE*2017*16636', 'GetSimple', 'v3*3*15', 'Cross*Site', 'admin*theme*edit*php', 'RPyC', 'procedure', 'ScadaBR', 'dwr*test*', 'Cobham', 'Sea', 'Tel', 'v194', 'vessel', 'latitude', 'longitude', 'SNMP', 'community', 'Pimcore', 'renaming', '*php', 'CVE*2019*10867', 'CVE*2019*16317', 'Indexhibit', 'reinstallation', '*ndxzstudio*install*php', 'p*2', 'V3*0', 'S*id', 'NIUSHOP', 'V1*11', 'info', 'FlameCMS', 'accountName', 'webEx', 'webExMeetingLogin*jsp', 'deleteWebExMeetingCheck*jsp', 'Fuji', 'DocuShare', 'MobaXterm', 'popup', 'confirmation', 'calc', 'SciLexer*dll', 'Scintilla', 'Notepad*', 'x64', 'Unicode', '*ml', 'Discoveries', 'Open*AudIT', 'insert*php', 'Woody', 'ad', 'winp*item', 'PicoC', 'StringStrcpy', 'cstdlib*string*c', 'ExpressionParseFunctionCall', 'expression*c', 'hostapd', 'indication', 'disconnection', 'PMF', 'location', 'range', 'Escuela', 'Gestion', 'Publica', 'Plurinacional', 'EGPP', 'Sistema', 'Integrado', 'Academica', 'GESAC', 'v1', 'Motorola', 'SIMalliance', 'Toolbox', 'class*', '*cf*email*', 'data*cfemail*', 'href*', '*cdn*cgi*l*email*protection', 'Samsung', 'Delta', 'DCISoft', 'CommLib', 'CCommLib', '*SetSerializeData*0x000000000000001b', 'process*http*response', 'OpenConnect', 'chunk', 'Afterlogic', 'Aurora', '8*3*9*build*a3', 'mdb*cursor*set', 'memcpy', 'write', 'mdb*xcursor*init1', 'outcome', 'data*mdb', 'mdb*node*del', 'memmove', 'mn*hi', 'mdb*node*add', 'post', 'wp*kses*bad*protocol*once', 'shortcode', 'wp*ajax*upload*attachment', 'Zulip', 'MIME', 'support', 'Content*Security*Policy', 'S3', 'hostname', 'Libra', 'Core', '2019*09*03', 'auditing', 'comment', 'author', '*r', 'reader', 'NOT', 'language*compiler*ir*to*bytecode*src*parser*rs', 'Homematic', 'CCU2', 'CCU3', 'ReGa', 'KSLabs', 'KSWEB', 'hostFile', 'htdocs*societe*card*php', 'plain', 'svc*id', 'include*monitoring*status*Services*xml*makeXMLForOneService*php', 'ArcGIS', 'IFRAME', 'Frame', 'XFS', 'EDIT', 'MY', 'PROFILE', 'upload*model', '*admini*controllers*system*managemodel*php', 'DocCms', 'SharePort', 'DIR*868L', 'REVB', 'DIR*885L', 'REVA', 'DIR*895L', 'HCL', 'AppScan', 'Source', 'External', 'Entity', 'XXE', '*ozasmt', 'listener', 'Processing', 'Limesurvey', 'HttpOnly', 'flag', 'enumerate', 'LDAP', 'box', 'caching', 'integrity', 'LimeSurvey', 'v3*17*14', 'SuperAdmin', 'application*core*Survey*Common*Action*php', 'survey', 'JetBrains', 'YouTrack', 'sysstat', 'remap*struct', 'sa*common*c', 'BIRD', 'Routing', 'Daemon', 'BGP', 'daemon', 'RFC', 'communication', 'validity', 'Sakai', 'GA1', 'article', 'journal*journal*taglib', 'Gophish', 'breadcrumbs', 'Padrino', 'caption', 'HDR', 'format', 'decoder', 'Vec', '*set*len', 'spin', 'RwLock', 'ordering', 'lock', 'time', 'exclusion', 'OKLite', 'v1*2*25', 'framework*admin*tpl*control*php', 'pathname', 'v1*0', 'protected*core*modules*home*models*Contact*php', 'Grav', 'Jobberbase', 'public*page*subscribe*php', 'Kartatopia', 'PilusCart', 'catalog*php', 'photo*gallery', 'Gallery', 'admin*controllers*Albumsgalleries*php', 'album*id', 'admin*controllers*Options*php', 'admin*models*Galleries*php', 'EnterpriseDT', 'CompleteFTP', 'Bootstrap*log', 'hash', 'Xpdf', 'IdentityFunction', '*transform', 'Function*cc', '*getColor', 'pdftoppm', 'ATutor', 'force', 'install*include*header*php', 'db*password', 'content*dir', 'install*include*step5*php', 'bl*kernel*ajax*upload*images*php', '*jpg', 'Silver', 'Peak', 'EdgeConnect', 'SD*WAN', 'rest*json*configdb*download*', '*swf', 'Micro*Star', 'MSI', 'Afterburner', 'RTCore64*sys', 'RTCore32*sys', 'I*O', 'MSRs', 'driver*signing', 'policy', 'Kilo', 'calculation', 'number', 'Sentrifugo', 'pam*p11', 'OpenSC', 'RSA', 'scheme', 'Total*js', 'widget', 'side', 'back*end', 'sandbox', 'global*process*mainModule*require', 'child*process', '*exec', '*script', 'template', 'directive', '*html', 'CRM', 'vCard', 'Nagios', 'XI', 'cmd*download', 'passwordless', 'check*plugin', '0*20*0*rc1', 'ASN*1', 'Octet', 'asn1*decode*entry', 'libopensc*asn1*c', 'Bitstring', 'vphysics*dll', 'Offensive', 'gaming', 'map', 'memset', 'FFmpeg', 'jump', 'h2645*parse', 'alloc*rbsp*buffer', 'OpenID', 'Issuer', 'LemonLDAP', '*NG', 'OIDC', 'Relaying', 'party', 'RP', 'filtering', 'redirection', 'Pengutronix', 'nfs*readlink*req', 'fs*nfs*c', 'nfs*readlink*reply', 'net*nfs*c', 'net*core*net*sysfs*c', 'backporting', 'Misuse', 'x86*ptrace', 'Fix', 'spectre*v1', 'ptrace*get*debugreg', 'Spectre', 'backport', 'cherry', 'Log', 'LifterLMS', 'class*llms*admin*import*php', 'Espressif', 'ESP*IDF', 'fault', 'ESP32', 'CPU', 'Secure', 'Boot', 'startup', 'boot', 'flash', 'Flash', 'Encryption', 'Cache', 'HTTP*1', 'parsing', 'assert', 'restart', 'CKFinder', 'conclusion', 'bulletproof', 'orderby', 'publish*date', 'action*pm*template*preview', 'LoginPress', 'CarSpot', 'theme', 'Phone', 'Number', 'JobCareer', 'admin*includes*class*import*snippet*php', 'TeamCity', 'backslash', 'ajax*woo*infobanner*post*click', 'ajax*woo*infobanner*post*xout', 'ajax*fb*toggle*visibility', 'Complexity_1', 'Complexity_2', 'Complexity_0', 'Authentication_1', 'Authentication_2', 'Conf_1', 'Conf_2', 'Conf_0', 'Integ_2', 'Integ_1', 'Integ_0', 'Avail_1', 'Avail_2', 'Avail_0', 'CVE-2019-1020019', 'CVE-2019-1020010', 'CVE-2019-1020008', 'CVE-2019-1020007', 'CVE-2019-1020005', 'CVE-2019-1020003', 'CVE-2019-1020002', 'CVE-2019-1010314', 'CVE-2019-1010307', 'CVE-2019-1010306', 'CVE-2019-1010305', 'CVE-2019-1010302', 'CVE-2019-1010301', 'CVE-2019-1010300', 'CVE-2019-1010299', 'CVE-2019-1010298', 'CVE-2019-1010297', 'CVE-2019-1010296', 'CVE-2019-1010295', 'CVE-2019-1010293', 'CVE-2019-1010292', 'CVE-2019-1010287', 'CVE-2019-1010283', 'CVE-2019-1010279', 'CVE-2019-1010266', 'CVE-2019-1010263', 'CVE-2019-1010262', 'CVE-2019-1010261', 'CVE-2019-1010260', 'CVE-2019-1010259', 'CVE-2019-1010258', 'CVE-2019-1010257', 'CVE-2019-1010251', 'CVE-2019-1010249', 'CVE-2019-1010248', 'CVE-2019-1010247', 'CVE-2019-1010246', 'CVE-2019-1010245', 'CVE-2019-1010239', 'CVE-2019-1010238', 'CVE-2019-1010237', 'CVE-2019-1010235', 'CVE-2019-1010234', 'CVE-2019-1010232', 'CVE-2019-1010228', 'CVE-2019-1010223', 'CVE-2019-1010218', 'CVE-2019-1010208', 'CVE-2019-1010207', 'CVE-2019-1010205', 'CVE-2019-1010204', 'CVE-2019-1010201', 'CVE-2019-1010200', 'CVE-2019-1010199', 'CVE-2019-1010193', 'CVE-2019-1010191', 'CVE-2019-1010183', 'CVE-2019-1010182', 'CVE-2019-1010180', 'CVE-2019-1010179', 'CVE-2019-1010178', 'CVE-2019-1010177', 'CVE-2019-1010176', 'CVE-2019-1010173', 'CVE-2019-1010172', 'CVE-2019-1010171', 'CVE-2019-1010170', 'CVE-2019-1010169', 'CVE-2019-1010163', 'CVE-2019-1010162', 'CVE-2019-1010161', 'CVE-2019-1010156', 'CVE-2019-1010155', 'CVE-2019-1010153', 'CVE-2019-1010152', 'CVE-2019-1010150', 'CVE-2019-1010149', 'CVE-2019-1010148', 'CVE-2019-1010147', 'CVE-2019-1010142', 'CVE-2019-1010129', 'CVE-2019-1010127', 'CVE-2019-1010124', 'CVE-2019-1010113', 'CVE-2019-1010112', 'CVE-2019-1010104', 'CVE-2019-1010101', 'CVE-2019-1010100', 'CVE-2019-1010096', 'CVE-2019-1010095', 'CVE-2019-1010094', 'CVE-2019-1010091', 'CVE-2019-1010083', 'CVE-2019-1010073', 'CVE-2019-1010069', 'CVE-2019-1010065', 'CVE-2019-1010060', 'CVE-2019-1010057', 'CVE-2019-1010054', 'CVE-2019-1010044', 'CVE-2019-1010043', 'CVE-2019-1010039', 'CVE-2019-1010038', 'CVE-2019-1010034', 'CVE-2019-1010028', 'CVE-2019-1010025', 'CVE-2019-1010024', 'CVE-2019-1010023', 'CVE-2019-1010022', 'CVE-2019-1010018', 'CVE-2019-1010017', 'CVE-2019-1010016', 'CVE-2019-1010008', 'CVE-2019-1010006', 'CVE-2019-1010005', 'CVE-2019-1010004', 'CVE-2019-1010003', 'CVE-2019-1003098', 'CVE-2019-1003092', 'CVE-2019-1003090', 'CVE-2019-1003086', 'CVE-2019-1003084', 'CVE-2019-1003082', 'CVE-2019-1003080', 'CVE-2019-1003078', 'CVE-2019-1003076', 'CVE-2019-1003058', 'CVE-2019-1003050', 'CVE-2019-1003046', 'CVE-2019-1003045', 'CVE-2019-1003044', 'CVE-2019-1003042', 'CVE-2019-1003041', 'CVE-2019-1003040', 'CVE-2019-1003037', 'CVE-2019-1003034', 'CVE-2019-1003031', 'CVE-2019-1003030', 'CVE-2019-1003029', 'CVE-2019-1003025', 'CVE-2019-1003024', 'CVE-2019-1003023', 'CVE-2019-1003022', 'CVE-2019-1003021', 'CVE-2019-1003018', 'CVE-2019-1003016', 'CVE-2019-1003015', 'CVE-2019-1003014', 'CVE-2019-1003013', 'CVE-2019-1003012', 'CVE-2019-1003011', 'CVE-2019-1003010', 'CVE-2019-1003008', 'CVE-2019-1003007', 'CVE-2019-1003006', 'CVE-2019-1003005', 'CVE-2019-1003002', 'CVE-2019-1003001', 'CVE-2019-1003000', 'CVE-2019-1002100', 'CVE-2019-1000019', 'CVE-2019-1000018', 'CVE-2019-1000012', 'CVE-2019-17510', 'CVE-2019-17509', 'CVE-2019-17496', 'CVE-2019-17494', 'CVE-2019-17493', 'CVE-2019-17491', 'CVE-2019-17489', 'CVE-2019-17488', 'CVE-2019-17451', 'CVE-2019-17450', 'CVE-2019-17434', 'CVE-2019-17433', 'CVE-2019-17432', 'CVE-2019-17431', 'CVE-2019-17430', 'CVE-2019-17429', 'CVE-2019-17427', 'CVE-2019-17419', 'CVE-2019-17418', 'CVE-2019-17417', 'CVE-2019-17399', 'CVE-2019-17386', 'CVE-2019-17385', 'CVE-2019-17384', 'CVE-2019-17380', 'CVE-2019-17379', 'CVE-2019-17378', 'CVE-2019-17377', 'CVE-2019-17376', 'CVE-2019-17370', 'CVE-2019-17368', 'CVE-2019-17362', 'CVE-2019-17352', 'CVE-2019-17351', 'CVE-2019-17350', 'CVE-2019-17349', 'CVE-2019-17348', 'CVE-2019-17347', 'CVE-2019-17346', 'CVE-2019-17345', 'CVE-2019-17344', 'CVE-2019-17343', 'CVE-2019-17342', 'CVE-2019-17341', 'CVE-2019-17340', 'CVE-2019-17319', 'CVE-2019-17318', 'CVE-2019-17314', 'CVE-2019-17313', 'CVE-2019-17312', 'CVE-2019-17311', 'CVE-2019-17298', 'CVE-2019-17297', 'CVE-2019-17296', 'CVE-2019-17295', 'CVE-2019-17294', 'CVE-2019-17293', 'CVE-2019-17292', 'CVE-2019-17271', 'CVE-2019-17269', 'CVE-2019-17260', 'CVE-2019-17240', 'CVE-2019-17239', 'CVE-2019-17226', 'CVE-2019-17225', 'CVE-2019-17217', 'CVE-2019-17214', 'CVE-2019-17213', 'CVE-2019-17205', 'CVE-2019-17204', 'CVE-2019-17203', 'CVE-2019-17199', 'CVE-2019-17197', 'CVE-2019-17192', 'CVE-2019-17188', 'CVE-2019-17187', 'CVE-2019-17184', 'CVE-2019-17180', 'CVE-2019-17179', 'CVE-2019-17175', 'CVE-2019-17134', 'CVE-2019-17133', 'CVE-2019-17128', 'CVE-2019-17121', 'CVE-2019-17113', 'CVE-2019-17110', 'CVE-2019-17109', 'CVE-2019-17108', 'CVE-2019-17107', 'CVE-2019-17092', 'CVE-2019-17080', 'CVE-2019-17075', 'CVE-2019-17074', 'CVE-2019-17073', 'CVE-2019-17072', 'CVE-2019-17071', 'CVE-2019-17070', 'CVE-2019-17069', 'CVE-2019-17051', 'CVE-2019-17049', 'CVE-2019-17046', 'CVE-2019-17045', 'CVE-2019-17042', 'CVE-2019-17041', 'CVE-2019-16999', 'CVE-2019-16997', 'CVE-2019-16996', 'CVE-2019-16995', 'CVE-2019-16994', 'CVE-2019-16993', 'CVE-2019-16941', 'CVE-2019-16935', 'CVE-2019-16931', 'CVE-2019-16928', 'CVE-2019-16926', 'CVE-2019-16925', 'CVE-2019-16923', 'CVE-2019-16922', 'CVE-2019-16921', 'CVE-2019-16920', 'CVE-2019-16914', 'CVE-2019-16910', 'CVE-2019-16904', 'CVE-2019-16903', 'CVE-2019-16900', 'CVE-2019-16899', 'CVE-2019-16894', 'CVE-2019-16892', 'CVE-2019-16891', 'CVE-2019-16890', 'CVE-2019-16889', 'CVE-2019-16884', 'CVE-2019-16881', 'CVE-2019-16868', 'CVE-2019-16866', 'CVE-2019-16759', 'CVE-2019-16755', 'CVE-2019-16751', 'CVE-2019-16746', 'CVE-2019-16745', 'CVE-2019-16744', 'CVE-2019-16743', 'CVE-2019-16738', 'CVE-2019-16728', 'CVE-2019-16725', 'CVE-2019-16724', 'CVE-2019-16723', 'CVE-2019-16722', 'CVE-2019-16721', 'CVE-2019-16719', 'CVE-2019-16718', 'CVE-2019-16714', 'CVE-2019-16707', 'CVE-2019-16706', 'CVE-2019-16704', 'CVE-2019-16703', 'CVE-2019-16702', 'CVE-2019-16696', 'CVE-2019-16695', 'CVE-2019-16694', 'CVE-2019-16693', 'CVE-2019-16692', 'CVE-2019-16688', 'CVE-2019-16687', 'CVE-2019-16686', 'CVE-2019-16685', 'CVE-2019-16684', 'CVE-2019-16683', 'CVE-2019-16681', 'CVE-2019-16680', 'CVE-2019-16679', 'CVE-2019-16678', 'CVE-2019-16677', 'CVE-2019-16667', 'CVE-2019-16665', 'CVE-2019-16664', 'CVE-2019-16661', 'CVE-2019-16660', 'CVE-2019-16659', 'CVE-2019-16658', 'CVE-2019-16657', 'CVE-2019-16656', 'CVE-2019-16644', 'CVE-2019-16643', 'CVE-2019-16642', 'CVE-2019-16534', 'CVE-2019-16533', 'CVE-2019-16531', 'CVE-2019-16525', 'CVE-2019-16524', 'CVE-2019-16511', 'CVE-2019-16508', 'CVE-2019-16417', 'CVE-2019-16416', 'CVE-2019-16414', 'CVE-2019-16413', 'CVE-2019-16409', 'CVE-2019-16398', 'CVE-2019-16395', 'CVE-2019-16394', 'CVE-2019-16392', 'CVE-2019-16383', 'CVE-2019-16378', 'CVE-2019-16371', 'CVE-2019-16366', 'CVE-2019-16352', 'CVE-2019-16347', 'CVE-2019-16346', 'CVE-2019-16334', 'CVE-2019-16333', 'CVE-2019-16332', 'CVE-2019-16328', 'CVE-2019-16321', 'CVE-2019-16320', 'CVE-2019-16318', 'CVE-2019-16314', 'CVE-2019-16312', 'CVE-2019-16311', 'CVE-2019-16310', 'CVE-2019-16309', 'CVE-2019-16307', 'CVE-2019-16305', 'CVE-2019-16294', 'CVE-2019-16293', 'CVE-2019-16289', 'CVE-2019-16277', 'CVE-2019-16275', 'CVE-2019-16264', 'CVE-2019-16257', 'CVE-2019-16256', 'CVE-2019-16247', 'CVE-2019-16239', 'CVE-2019-16238', 'CVE-2019-16227', 'CVE-2019-16226', 'CVE-2019-16225', 'CVE-2019-16224', 'CVE-2019-16223', 'CVE-2019-16222', 'CVE-2019-16221', 'CVE-2019-16219', 'CVE-2019-16218', 'CVE-2019-16217', 'CVE-2019-16216', 'CVE-2019-16214', 'CVE-2019-16199', 'CVE-2019-16198', 'CVE-2019-16197', 'CVE-2019-16194', 'CVE-2019-16193', 'CVE-2019-16192', 'CVE-2019-16190', 'CVE-2019-16188', 'CVE-2019-16187', 'CVE-2019-16182', 'CVE-2019-16180', 'CVE-2019-16178', 'CVE-2019-16177', 'CVE-2019-16176', 'CVE-2019-16174', 'CVE-2019-16173', 'CVE-2019-16172', 'CVE-2019-16171', 'CVE-2019-16167', 'CVE-2019-16159', 'CVE-2019-16148', 'CVE-2019-16147', 'CVE-2019-16146', 'CVE-2019-16145', 'CVE-2019-16138', 'CVE-2019-16137', 'CVE-2019-16132', 'CVE-2019-16130', 'CVE-2019-16126', 'CVE-2019-16125', 'CVE-2019-16123', 'CVE-2019-16119', 'CVE-2019-16118', 'CVE-2019-16117', 'CVE-2019-16116', 'CVE-2019-16115', 'CVE-2019-16114', 'CVE-2019-16113', 'CVE-2019-16105', 'CVE-2019-16104', 'CVE-2019-16101', 'CVE-2019-16099', 'CVE-2019-16098', 'CVE-2019-16096', 'CVE-2019-16059', 'CVE-2019-16058', 'CVE-2019-15954', 'CVE-2019-15952', 'CVE-2019-15950', 'CVE-2019-15949', 'CVE-2019-15946', 'CVE-2019-15945', 'CVE-2019-15943', 'CVE-2019-15942', 'CVE-2019-15941', 'CVE-2019-15938', 'CVE-2019-15937', 'CVE-2019-15916', 'CVE-2019-15902', 'CVE-2019-15898', 'CVE-2019-15896', 'CVE-2019-15894', 'CVE-2019-15892', 'CVE-2019-15891', 'CVE-2019-15889', 'CVE-2019-15873', 'CVE-2019-15872', 'CVE-2019-15870', 'CVE-2019-15869', 'CVE-2019-15868', 'CVE-2019-15865', 'CVE-2019-15864', 'CVE-2019-15858', 'CVE-2019-15848', 'CVE-2019-15846', 'CVE-2019-15842', 'CVE-2019-15841', 'CVE-2019-15840', 'CVE-2019-15839', 'XSS ', 'Exec Code ', 'Overflow ', 'DoS ', 'DoS Overflow ', 'Exec Code Overflow ', 'Overflow Mem. Corr. ', 'Mem. Corr. ', 'Exec Code XSS ', 'DoS Bypass ', 'Bypass ', 'Sql ', 'DoS Exec Code Overflow ', 'Dir. Trav. ', 'XSS Bypass ', 'DoS Exec Code ', 'DoS Bypass +Info ', 'Exec Code Sql ', 'CSRF ', 'Bypass +Info ', 'Overflow Bypass ', 'Exec Code Bypass ', 'Bypass CSRF ', 'Exec Code CSRF ', 'XSS CSRF ', 'DoS +Priv ', 'DoS Dir. Trav. ', 'XSS File Inclusion ', 'Dir. Trav. File Inclusion ', 'DoS CSRF ', 'Overflow +Priv ', 'Exec Code +Priv ', 'Exec Code +Priv Dir. Trav. ', 'File Inclusion ']\n"
     ]
    }
   ],
   "source": [
    "list_node = G.nodes()\n",
    "print(list_node)"
   ]
  },
  {
   "cell_type": "code",
   "execution_count": null,
   "metadata": {},
   "outputs": [],
   "source": []
  },
  {
   "cell_type": "code",
   "execution_count": null,
   "metadata": {},
   "outputs": [],
   "source": []
  },
  {
   "cell_type": "code",
   "execution_count": null,
   "metadata": {},
   "outputs": [],
   "source": []
  }
 ],
 "metadata": {
  "kernelspec": {
   "display_name": "Python 3",
   "language": "python",
   "name": "python3"
  },
  "language_info": {
   "codemirror_mode": {
    "name": "ipython",
    "version": 3
   },
   "file_extension": ".py",
   "mimetype": "text/x-python",
   "name": "python",
   "nbconvert_exporter": "python",
   "pygments_lexer": "ipython3",
   "version": "3.7.7"
  }
 },
 "nbformat": 4,
 "nbformat_minor": 2
}
