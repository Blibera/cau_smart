{
 "cells": [
  {
   "cell_type": "code",
   "execution_count": 103,
   "metadata": {},
   "outputs": [],
   "source": [
    "%matplotlib inline\n",
    "\n",
    "import warnings\n",
    "from text_unidecode import unidecode\n",
    "from collections import deque\n",
    "warnings.filterwarnings('ignore')\n",
    "import csv\n",
    "\n",
    "import pandas as pd\n",
    "from sklearn.manifold import TSNE\n",
    "import numpy as np\n",
    "import networkx as nx\n",
    "import matplotlib.pyplot as plt\n",
    "import matplotlib.patches as mpatches\n",
    "import seaborn as sns\n",
    "from node2vec import Node2Vec\n",
    "from node2vec.edges import HadamardEmbedder\n",
    "import re\n",
    "sns.set_style('whitegrid')"
   ]
  },
  {
   "cell_type": "code",
   "execution_count": 104,
   "metadata": {},
   "outputs": [],
   "source": [
    "# list data 및 속성 node 추가\n",
    "\n",
    "G.add_nodes_from(CWE_ID, kind='CWE_ID')\n",
    "G.add_nodes_from(Vulnerability_Types, kind='Vulnerability_Types')\n",
    "G.add_nodes_from(Score, kind='Score')\n",
    "G.add_nodes_from(Gained_Access_Level, kind='Gained_Access_Level')\n",
    "G.add_nodes_from(Access, kind='Access')\n",
    "G.add_nodes_from(Complexity, kind='Complexity')\n",
    "G.add_nodes_from(Authentication, kind='Authentication')\n",
    "G.add_nodes_from(Conf, kind='Conf')\n",
    "G.add_nodes_from(Integ, kind='Integ')\n",
    "G.add_nodes_from(Avail, kind='Avail')\n",
    "G.add_nodes_from(list, kind='list')\n",
    "\n",
    "# List 속성\n",
    "CVE_ID = []\n",
    "CWE_ID = []\n",
    "Vulnerability_Types = []\n",
    "Text = []\n",
    "Score = []\n",
    "Gained_Access_Level = []\n",
    "Access = []\n",
    "Complexity = []\n",
    "Authentication = []\n",
    "Conf = []\n",
    "Integ = []\n",
    "Avail = []"
   ]
  },
  {
   "cell_type": "code",
   "execution_count": 105,
   "metadata": {},
   "outputs": [],
   "source": [
    "with open('C:/Users/DI_Lab/Desktop/국보연/node2vec/node2vec (date만 삭제).csv', 'r', encoding='UTF8') as f:\n",
    "    reader = csv.reader(f)\n",
    "    rupe = 0\n",
    "    for txt in reader:\n",
    "        if rupe == 0:\n",
    "            rupe = 1\n",
    "        else:\n",
    "            for i in range(0,12):\n",
    "                if i == 0:\n",
    "                    tol = str(txt[i])\n",
    "                    tol = tol.strip()\n",
    "                    CVE_ID.append(tol)\n",
    "                elif i == 1:\n",
    "                    tol = str(txt[i])\n",
    "                    tol = tol.strip()\n",
    "                    if tol in CWE_ID:\n",
    "                        pass\n",
    "                    else:\n",
    "                        CWE_ID.append(tol)\n",
    "                elif i == 2:\n",
    "                    tol = str(txt[i])\n",
    "                    tol = tol.strip()\n",
    "                    if tol in Vulnerability_Types:\n",
    "                        pass\n",
    "                    else:\n",
    "                        Vulnerability_Types.append(tol)\n",
    "                elif i == 3:\n",
    "                    tol = str(txt[i])\n",
    "                    tol = tol.strip()\n",
    "                    if tol in Score:\n",
    "                        pass\n",
    "                    else:\n",
    "                        Score.append(tol)\n",
    "                elif i == 4:\n",
    "                    tol = str(txt[i])\n",
    "                    tol = re.sub('\\[','',tol)\n",
    "                    tol = re.sub('\\]','',tol)\n",
    "                    tol = re.sub(\"\\'\",'',tol)\n",
    "                    count = tol.count(',') + 1\n",
    "                    k = 0\n",
    "                    for k in range(count):\n",
    "                        text_tol = tol.split(',')[k]\n",
    "                        text_tol = text_tol.strip()\n",
    "                        if text_tol in Text:\n",
    "                            pass\n",
    "                        else:\n",
    "                            Text.append(text_tol)\n",
    "                elif i == 5:\n",
    "                    tol = str(txt[i])\n",
    "                    tol = tol.strip()\n",
    "                    if tol in Gained_Access_Level:\n",
    "                        pass\n",
    "                    else:\n",
    "                        Gained_Access_Level.append(tol)\n",
    "                elif i == 6:\n",
    "                    tol = str(txt[i])\n",
    "                    tol = tol.strip()\n",
    "                    if tol in Score:\n",
    "                        pass\n",
    "                    else:\n",
    "                        Score.append(tol)\n",
    "                elif i == 7:\n",
    "                    tol = str(txt[i])\n",
    "                    tol = tol.strip()\n",
    "                    if tol in Access:\n",
    "                        pass\n",
    "                    else:\n",
    "                        Access.append(tol)\n",
    "                elif i == 8:\n",
    "                    tol = str(txt[i])\n",
    "                    tol = tol.strip()\n",
    "                    if tol in Authentication:\n",
    "                        pass\n",
    "                    else:\n",
    "                        Authentication.append(tol)\n",
    "                elif i == 9:\n",
    "                    tol = str(txt[i])\n",
    "                    tol = tol.strip()\n",
    "                    if tol in Conf:\n",
    "                        pass\n",
    "                    else:\n",
    "                        Conf.append(tol)\n",
    "                elif i == 10:\n",
    "                    tol = str(txt[i])\n",
    "                    tol = tol.strip()\n",
    "                    if tol in Integ:\n",
    "                        pass\n",
    "                    else:\n",
    "                        Integ.append(tol)\n",
    "                elif i == 11:\n",
    "                    tol = str(txt[i])\n",
    "                    tol = tol.strip()\n",
    "                    if tol in Avail:\n",
    "                        pass\n",
    "                    else:\n",
    "                        Avail.append(tol)"
   ]
  },
  {
   "cell_type": "code",
   "execution_count": 106,
   "metadata": {},
   "outputs": [],
   "source": [
    "# list data 및 속성 node 추가\n",
    "\n",
    "G.add_nodes_from(CWE_ID, kind='CWE_ID')\n",
    "G.add_nodes_from(Vulnerability_Types, kind='Vulnerability_Types')\n",
    "G.add_nodes_from(Score, kind='Score')\n",
    "G.add_nodes_from(Gained_Access_Level, kind='Gained_Access_Level')\n",
    "G.add_nodes_from(Text, kind='Text')\n",
    "G.add_nodes_from(Access, kind='Access')\n",
    "G.add_nodes_from(Complexity, kind='Complexity')\n",
    "G.add_nodes_from(Authentication, kind='Authentication')\n",
    "G.add_nodes_from(Conf, kind='Conf')\n",
    "G.add_nodes_from(Integ, kind='Integ')\n",
    "G.add_nodes_from(Avail, kind='Avail')\n",
    "G.add_nodes_from(CVE_ID, kind='list')"
   ]
  },
  {
   "cell_type": "code",
   "execution_count": 1,
   "metadata": {},
   "outputs": [
    {
     "ename": "NameError",
     "evalue": "name 'csv' is not defined",
     "output_type": "error",
     "traceback": [
      "\u001b[1;31m---------------------------------------------------------------------------\u001b[0m",
      "\u001b[1;31mNameError\u001b[0m                                 Traceback (most recent call last)",
      "\u001b[1;32m<ipython-input-1-21921dfa3336>\u001b[0m in \u001b[0;36m<module>\u001b[1;34m\u001b[0m\n\u001b[0;32m      1\u001b[0m \u001b[1;32mwith\u001b[0m \u001b[0mopen\u001b[0m\u001b[1;33m(\u001b[0m\u001b[1;34m'C:/Users/DI_Lab/Desktop/국보연/node2vec/node2vec (date만 삭제).csv'\u001b[0m\u001b[1;33m,\u001b[0m \u001b[1;34m'r'\u001b[0m\u001b[1;33m,\u001b[0m \u001b[0mencoding\u001b[0m\u001b[1;33m=\u001b[0m\u001b[1;34m'UTF8'\u001b[0m\u001b[1;33m)\u001b[0m \u001b[1;32mas\u001b[0m \u001b[0mf\u001b[0m\u001b[1;33m:\u001b[0m\u001b[1;33m\u001b[0m\u001b[1;33m\u001b[0m\u001b[0m\n\u001b[1;32m----> 2\u001b[1;33m     \u001b[0mreader\u001b[0m \u001b[1;33m=\u001b[0m \u001b[0mcsv\u001b[0m\u001b[1;33m.\u001b[0m\u001b[0mreader\u001b[0m\u001b[1;33m(\u001b[0m\u001b[0mf\u001b[0m\u001b[1;33m)\u001b[0m\u001b[1;33m\u001b[0m\u001b[1;33m\u001b[0m\u001b[0m\n\u001b[0m\u001b[0;32m      3\u001b[0m     \u001b[0mrupe\u001b[0m \u001b[1;33m=\u001b[0m \u001b[1;36m0\u001b[0m\u001b[1;33m\u001b[0m\u001b[1;33m\u001b[0m\u001b[0m\n\u001b[0;32m      4\u001b[0m     \u001b[1;32mfor\u001b[0m \u001b[0mtxt\u001b[0m \u001b[1;32min\u001b[0m \u001b[0mreader\u001b[0m\u001b[1;33m:\u001b[0m\u001b[1;33m\u001b[0m\u001b[1;33m\u001b[0m\u001b[0m\n\u001b[0;32m      5\u001b[0m         \u001b[1;32mif\u001b[0m \u001b[0mrupe\u001b[0m \u001b[1;33m==\u001b[0m \u001b[1;36m0\u001b[0m\u001b[1;33m:\u001b[0m\u001b[1;33m\u001b[0m\u001b[1;33m\u001b[0m\u001b[0m\n",
      "\u001b[1;31mNameError\u001b[0m: name 'csv' is not defined"
     ]
    }
   ],
   "source": [
    "with open('C:/Users/DI_Lab/Desktop/국보연/node2vec/node2vec (date만 삭제).csv', 'r', encoding='UTF8') as f:\n",
    "    reader = csv.reader(f)\n",
    "    rupe = 0\n",
    "    for txt in reader:\n",
    "        if rupe == 0:\n",
    "            rupe = 1\n",
    "        else:\n",
    "            for i in range(0,12):\n",
    "                if i == 0:\n",
    "                    tol = str(txt[i])\n",
    "                    start_edge = str(tol)\n",
    "                elif i == 4:\n",
    "                    tol = str(txt[i])\n",
    "                    tol = re.sub('\\[','',tol)\n",
    "                    tol = re.sub('\\]','',tol)\n",
    "                    tol = re.sub(\"\\'\",'',tol)\n",
    "                    count = tol.count(',') + 1\n",
    "                    k = 0\n",
    "                    for k in range(count):\n",
    "                        text_tol = tol.split(',')[k]\n",
    "                        text_tol = text_tol.strip()\n",
    "                        end_edge = str(text_tol)\n",
    "                else:\n",
    "                    tol = str(txt[i])\n",
    "                    end_edge = str(tol)\n",
    "                    G.add_edge(start_edge, end_edge)\n",
    "print(\"탈출\")\n",
    "list_node = G.nodes()\n",
    "print(\"탈출\")\n",
    "print(list_node)\n",
    "d = dict(G.degree)\n",
    "print(\"탈출\")"
   ]
  },
  {
   "cell_type": "code",
   "execution_count": 40,
   "metadata": {},
   "outputs": [
    {
     "name": "stderr",
     "output_type": "stream",
     "text": [
      "Computing transition probabilities: 100%|████████████████████████████████████████████| 599/599 [00:04<00:00, 92.44it/s]\n",
      "Generating walks (CPU: 1): 100%|█████████████████████████████████████████████████████| 200/200 [00:48<00:00,  4.10it/s]\n"
     ]
    }
   ],
   "source": [
    "node2vec = Node2Vec(graph=G, # target graph\n",
    "                    dimensions=50, # embedding dimension\n",
    "                    walk_length=10, # number of nodes in each walks\n",
    "                    p = 1, # return hyper parameter\n",
    "                    q = 0.0001, # inout parameter, q값을 작게 하면 structural equivalence를 강조하는 형태로 학습됩니다.\n",
    "                    num_walks=200,\n",
    "                    workers=1,\n",
    "                   )\n",
    "model1 = node2vec.fit(window=10)"
   ]
  },
  {
   "cell_type": "code",
   "execution_count": 41,
   "metadata": {},
   "outputs": [
    {
     "name": "stderr",
     "output_type": "stream",
     "text": [
      "Generating edge features: 100%|██████████████████████████████████████████| 179700/179700.0 [00:00<00:00, 205768.55it/s]\n"
     ]
    },
    {
     "data": {
      "text/plain": [
       "<gensim.models.keyedvectors.Word2VecKeyedVectors at 0x163f4b38c18>"
      ]
     },
     "execution_count": 41,
     "metadata": {},
     "output_type": "execute_result"
    }
   ],
   "source": [
    "edges_embs = HadamardEmbedder(keyed_vectors=model1.wv)\n",
    "\n",
    "edges_kv = edges_embs.as_keyed_vectors()\n",
    "edges_kv"
   ]
  },
  {
   "cell_type": "code",
   "execution_count": 71,
   "metadata": {},
   "outputs": [
    {
     "data": {
      "text/plain": [
       "[(\"('DoS Bypass +Info ', 'DoS Bypass +Info ')\", 0.6346921920776367),\n",
       " (\"('287', '476')\", 0.6032660007476807),\n",
       " (\"('19-1010156', 'DoS Bypass +Info ')\", 0.5537427663803101),\n",
       " (\"('287', '287')\", 0.5494322776794434),\n",
       " (\"('476', 'DoS Bypass +Info ')\", 0.5422887802124023),\n",
       " (\"('19-1010156', '287')\", 0.5109451413154602),\n",
       " (\"('19-1010155', 'DoS Bypass +Info ')\", 0.5063484311103821),\n",
       " (\"('772', 'DoS ')\", 0.5046939849853516),\n",
       " (\"('400', '772')\", 0.4983276426792145),\n",
       " (\"('19-1010156', '476')\", 0.4961327314376831),\n",
       " (\"('19-17417', 'DoS Dir. Trav. ')\", 0.49417662620544434),\n",
       " (\"('19-16115', 'DoS Dir. Trav. ')\", 0.485931396484375),\n",
       " (\"('Bypass ', 'DoS Bypass +Info ')\", 0.47967368364334106),\n",
       " (\"('19-1010301', 'Exec Code +Priv Dir. Trav. ')\", 0.4779123067855835),\n",
       " (\"('772', '772')\", 0.4773901104927063),\n",
       " (\"('19-1010155', '19-1010183')\", 0.47609180212020874),\n",
       " (\"('19-16334', 'DoS Dir. Trav. ')\", 0.47473806142807007),\n",
       " (\"('19-1010155', '476')\", 0.47435349225997925),\n",
       " (\"('19-16199', 'DoS Bypass +Info ')\", 0.4729025959968567),\n",
       " (\"('Conf_1', 'DoS ')\", 0.4687843322753906)]"
      ]
     },
     "execution_count": 71,
     "metadata": {},
     "output_type": "execute_result"
    }
   ],
   "source": [
    "edges_kv.most_similar(positive=[str(('287','DoS Bypass +Info '))], negative=[str(('119','DoS Overflow '))], topn=20)"
   ]
  },
  {
   "cell_type": "code",
   "execution_count": 70,
   "metadata": {},
   "outputs": [
    {
     "data": {
      "text/plain": [
       "[(\"('532', 'DoS Overflow ')\", 0.7343182563781738),\n",
       " (\"('DoS Overflow ', 'Overflow Bypass ')\", 0.7317131161689758),\n",
       " (\"('DoS Overflow ', 'DoS Overflow ')\", 0.7261871099472046),\n",
       " (\"('119', '119')\", 0.7194229364395142),\n",
       " (\"('19-1003005', '19-16214')\", 0.5928001999855042),\n",
       " (\"('DoS Overflow ', 'Overflow Mem. Corr. ')\", 0.5924868583679199),\n",
       " (\"('119', '532')\", 0.5611318349838257),\n",
       " (\"('19-1020003', '19-1020003')\", 0.554203987121582),\n",
       " (\"('119', 'Overflow Bypass ')\", 0.5484793186187744),\n",
       " (\"('DoS Exec Code Overflow ', 'DoS Overflow ')\", 0.5410728454589844)]"
      ]
     },
     "execution_count": 70,
     "metadata": {},
     "output_type": "execute_result"
    }
   ],
   "source": [
    "edges_kv.most_similar(str(('119','DoS Overflow ')))"
   ]
  },
  {
   "cell_type": "code",
   "execution_count": 86,
   "metadata": {},
   "outputs": [
    {
     "name": "stdout",
     "output_type": "stream",
     "text": [
      "['79', '200', '77', '119', '284', '20', '347', '400', '749', '89', '190', '754', '22', '125', '78', '416', '476', '287', '352', '275', '427', '399', '264', '91', '254', '611', '674', '434', '835', '362', '307', '863', '269', '120', '94', '502', '772', '665', '639', '290', '522', '862', '74', '532', 'XSS ', '#NAME?', 'Exec Code ', 'Overflow ', 'DoS ', 'DoS Overflow ', 'Exec Code Overflow ', 'Overflow Mem. Corr. ', 'Mem. Corr. ', 'Exec Code XSS ', 'DoS Bypass ', 'Bypass ', 'Sql ', 'DoS Exec Code Overflow ', 'Dir. Trav. ', 'XSS Bypass ', 'DoS Exec Code ', 'DoS Bypass +Info ', 'Exec Code Sql ', 'CSRF ', 'Bypass +Info ', 'Overflow Bypass ', 'Exec Code Bypass ', 'Bypass CSRF ', 'Exec Code CSRF ', 'XSS CSRF ', 'DoS +Priv ', 'DoS Dir. Trav. ', 'XSS File Inclusion ', 'Dir. Trav. File Inclusion ', 'DoS CSRF ', 'Overflow +Priv ', 'Exec Code +Priv ', 'Exec Code +Priv Dir. Trav. ', 'File Inclusion ', 'Socre_2', 'Access_2', 'Socre_1', 'Socre_0', 'Access_0', 'Access_1', 'Gained Access Level_1', 'Complexity_1', 'Complexity_2', 'Complexity_0', 'Authentication_1', 'Authentication_2', 'Conf_1', 'Conf_2', 'Conf_0', 'Integ_2', 'Integ_1', 'Integ_0', 'Avail_1', 'Avail_2', 'Avail_0', '19-1020019', '19-1020010', '19-1020008', '19-1020007', '19-1020005', '19-1020003', '19-1020002', '19-1010314', '19-1010307', '19-1010306', '19-1010305', '19-1010302', '19-1010301', '19-1010300', '19-1010299', '19-1010298', '19-1010297', '19-1010296', '19-1010295', '19-1010293', '19-1010292', '19-1010287', '19-1010283', '19-1010279', '19-1010266', '19-1010263', '19-1010262', '19-1010261', '19-1010260', '19-1010259', '19-1010258', '19-1010257', '19-1010251', '19-1010249', '19-1010248', '19-1010247', '19-1010246', '19-1010245', '19-1010239', '19-1010238', '19-1010237', '19-1010235', '19-1010234', '19-1010232', '19-1010228', '19-1010223', '19-1010218', '19-1010208', '19-1010207', '19-1010205', '19-1010204', '19-1010201', '19-1010200', '19-1010199', '19-1010193', '19-1010191', '19-1010183', '19-1010182', '19-1010180', '19-1010179', '19-1010178', '19-1010177', '19-1010176', '19-1010173', '19-1010172', '19-1010171', '19-1010170', '19-1010169', '19-1010163', '19-1010162', '19-1010161', '19-1010156', '19-1010155', '19-1010153', '19-1010152', '19-1010150', '19-1010149', '19-1010148', '19-1010147', '19-1010142', '19-1010129', '19-1010127', '19-1010124', '19-1010113', '19-1010112', '19-1010104', '19-1010101', '19-1010100', '19-1010096', '19-1010095', '19-1010094', '19-1010091', '19-1010083', '19-1010073', '19-1010069', '19-1010065', '19-1010060', '19-1010057', '19-1010054', '19-1010044', '19-1010043', '19-1010039', '19-1010038', '19-1010034', '19-1010028', '19-1010025', '19-1010024', '19-1010023', '19-1010022', '19-1010018', '19-1010017', '19-1010016', '19-1010008', '19-1010006', '19-1010005', '19-1010004', '19-1010003', '19-1003098', '19-1003092', '19-1003090', '19-1003086', '19-1003084', '19-1003082', '19-1003080', '19-1003078', '19-1003076', '19-1003058', '19-1003050', '19-1003046', '19-1003045', '19-1003044', '19-1003042', '19-1003041', '19-1003040', '19-1003037', '19-1003034', '19-1003031', '19-1003030', '19-1003029', '19-1003025', '19-1003024', '19-1003023', '19-1003022', '19-1003021', '19-1003018', '19-1003016', '19-1003015', '19-1003014', '19-1003013', '19-1003012', '19-1003011', '19-1003010', '19-1003008', '19-1003007', '19-1003006', '19-1003005', '19-1003002', '19-1003001', '19-1003000', '19-1002100', '19-1000019', '19-1000018', '19-1000012', '19-17510', '19-17509', '19-17496', '19-17494', '19-17493', '19-17491', '19-17489', '19-17488', '19-17451', '19-17450', '19-17434', '19-17433', '19-17432', '19-17431', '19-17430', '19-17429', '19-17427', '19-17419', '19-17418', '19-17417', '19-17399', '19-17386', '19-17385', '19-17384', '19-17380', '19-17379', '19-17378', '19-17377', '19-17376', '19-17370', '19-17368', '19-17362', '19-17352', '19-17351', '19-17350', '19-17349', '19-17348', '19-17347', '19-17346', '19-17345', '19-17344', '19-17343', '19-17342', '19-17341', '19-17340', '19-17319', '19-17318', '19-17314', '19-17313', '19-17312', '19-17311', '19-17298', '19-17297', '19-17296', '19-17295', '19-17294', '19-17293', '19-17292', '19-17271', '19-17269', '19-17260', '19-17240', '19-17239', '19-17226', '19-17225', '19-17217', '19-17214', '19-17213', '19-17205', '19-17204', '19-17203', '19-17199', '19-17197', '19-17192', '19-17188', '19-17187', '19-17184', '19-17180', '19-17179', '19-17175', '19-17134', '19-17133', '19-17128', '19-17121', '19-17113', '19-17110', '19-17109', '19-17108', '19-17107', '19-17092', '19-17080', '19-17075', '19-17074', '19-17073', '19-17072', '19-17071', '19-17070', '19-17069', '19-17051', '19-17049', '19-17046', '19-17045', '19-17042', '19-17041', '19-16999', '19-16997', '19-16996', '19-16995', '19-16994', '19-16993', '19-16941', '19-16935', '19-16931', '19-16928', '19-16926', '19-16925', '19-16923', '19-16922', '19-16921', '19-16920', '19-16914', '19-16910', '19-16904', '19-16903', '19-16900', '19-16899', '19-16894', '19-16892', '19-16891', '19-16890', '19-16889', '19-16884', '19-16881', '19-16868', '19-16866', '19-16759', '19-16755', '19-16751', '19-16746', '19-16745', '19-16744', '19-16743', '19-16738', '19-16728', '19-16725', '19-16724', '19-16723', '19-16722', '19-16721', '19-16719', '19-16718', '19-16714', '19-16707', '19-16706', '19-16704', '19-16703', '19-16702', '19-16696', '19-16695', '19-16694', '19-16693', '19-16692', '19-16688', '19-16687', '19-16686', '19-16685', '19-16684', '19-16683', '19-16681', '19-16680', '19-16679', '19-16678', '19-16677', '19-16667', '19-16665', '19-16664', '19-16661', '19-16660', '19-16659', '19-16658', '19-16657', '19-16656', '19-16644', '19-16643', '19-16642', '19-16534', '19-16533', '19-16531', '19-16525', '19-16524', '19-16511', '19-16508', '19-16417', '19-16416', '19-16414', '19-16413', '19-16409', '19-16398', '19-16395', '19-16394', '19-16392', '19-16383', '19-16378', '19-16371', '19-16366', '19-16352', '19-16347', '19-16346', '19-16334', '19-16333', '19-16332', '19-16328', '19-16321', '19-16320', '19-16318', '19-16314', '19-16312', '19-16311', '19-16310', '19-16309', '19-16307', '19-16305', '19-16294', '19-16293', '19-16289', '19-16277', '19-16275', '19-16264', '19-16257', '19-16256', '19-16247', '19-16239', '19-16238', '19-16227', '19-16226', '19-16225', '19-16224', '19-16223', '19-16222', '19-16221', '19-16219', '19-16218', '19-16217', '19-16216', '19-16214', '19-16199', '19-16198', '19-16197', '19-16194', '19-16193', '19-16192', '19-16190', '19-16188', '19-16187', '19-16182', '19-16180', '19-16178', '19-16177', '19-16176', '19-16174', '19-16173', '19-16172', '19-16171', '19-16167', '19-16159', '19-16148', '19-16147', '19-16146', '19-16145', '19-16138', '19-16137', '19-16132', '19-16130', '19-16126', '19-16125', '19-16123', '19-16119', '19-16118', '19-16117', '19-16116', '19-16115', '19-16114', '19-16113', '19-16105', '19-16104', '19-16101', '19-16099', '19-16098', '19-16096', '19-16059', '19-16058', '19-15954', '19-15952', '19-15950', '19-15949', '19-15946', '19-15945', '19-15943', '19-15942', '19-15941', '19-15938', '19-15937', '19-15916', '19-15902', '19-15898', '19-15896', '19-15894', '19-15892', '19-15891', '19-15889', '19-15873', '19-15872', '19-15870', '19-15869', '19-15868', '19-15865', '19-15864', '19-15858', '19-15848', '19-15846', '19-15842', '19-15841', '19-15840', '19-15839', '19-15838', '19-15837', '19-15836', '19-15835', '19-15834', '19-15833', '19-15832', '19-15831', '19-15830', '19-15829', '19-15828', '19-15827']\n"
     ]
    }
   ],
   "source": [
    "list_node = G.nodes()\n",
    "print(list_node)"
   ]
  },
  {
   "cell_type": "code",
   "execution_count": null,
   "metadata": {},
   "outputs": [],
   "source": []
  },
  {
   "cell_type": "code",
   "execution_count": null,
   "metadata": {},
   "outputs": [],
   "source": []
  },
  {
   "cell_type": "code",
   "execution_count": null,
   "metadata": {},
   "outputs": [],
   "source": []
  }
 ],
 "metadata": {
  "kernelspec": {
   "display_name": "Python 3",
   "language": "python",
   "name": "python3"
  },
  "language_info": {
   "codemirror_mode": {
    "name": "ipython",
    "version": 3
   },
   "file_extension": ".py",
   "mimetype": "text/x-python",
   "name": "python",
   "nbconvert_exporter": "python",
   "pygments_lexer": "ipython3",
   "version": "3.7.3"
  }
 },
 "nbformat": 4,
 "nbformat_minor": 2
}
